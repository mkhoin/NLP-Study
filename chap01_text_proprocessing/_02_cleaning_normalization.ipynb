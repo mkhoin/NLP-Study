{
 "cells": [
  {
   "cell_type": "markdown",
   "metadata": {
    "collapsed": true,
    "pycharm": {
     "name": "#%% md\n"
    }
   },
   "source": [
    "# Cleaning and Normalization\n",
    "\n",
    "1. Cleaning : 갖고있는 코퍼스로부터 노이즈 데이터를 제거한다. (필요없는 단어 제거)\n",
    "2. Normalization : 표현방법이 다른 단어들을 통합시켜서 같은 단어로 만든다.\n",
    "\n",
    "\n",
    "토큰화 작업보다 앞서 이루어지기도 하지만, \n",
    "토큰화 작업 이후에도 여전히 남아있는 노이즈들을 제거하기위해 지속적으로 이루어지기도 합니다. \n",
    "사실 완벽한 정제 작업은 어려운 편이라서, 대부분의 경우 이 정도면 됐다.라는 \n",
    "일종의 합의점을 찾기도 합니다. \n"
   ]
  },
  {
   "cell_type": "markdown",
   "source": [
    "## 1. 규칙에 기반한 표기가 다른 단어들의 통합 (Normalization)\n",
    "필요에 따라 직접 코딩을 통해 정의할 수 있는 정규화 규칙의 예로서 같은 의미를 갖고있음에도, \n",
    "표기가 다른 단어들을 하나의 단어로 정규화하는 방법을 사용할 수 있습니다.\n",
    "\n",
    "가령, USA와 US는 같은 의미를 가지므로, 하나의 단어로 정규화해볼 수 있습니다. \n",
    "uh-huh와 uhhuh는 형태는 다르지만 여전히 같은 의미를 갖고 있습니다. \n",
    "이러한 정규화를 거치게 되면, US를 찾아도 USA도 함께 찾을 수 있을 것입니다. \n",
    "다음 챕터에서 표기가 다른 단어들을 통합하는 방법인 어간 추출(stemming)과 표제어 추출(lemmatizaiton)에 \n",
    "대해서 더 자세히 알아보도록 하겠습니다.\n"
   ],
   "metadata": {
    "collapsed": false,
    "pycharm": {
     "name": "#%% md\n"
    }
   }
  },
  {
   "cell_type": "markdown",
   "source": [
    "## 2. 대, 소문자 통합 (Normalization)\n",
    "영어권 언어에서 대, 소문자를 통합하는 것은 단어의 개수를 줄일 수 있는 또 다른 정규화 방법입니다.\n",
    "영어권 언어에서 대문자는 문장의 맨 앞 등과 같은 특정 상황에서만 쓰이고, \n",
    "대부분의 글은 소문자로 작성되기 때문에 대, 소문자 통합 작업은 대부분 대문자를 소문자로 변환하는 \n",
    "소문자 변환작업으로 이루어지게 됩니다.\n",
    "\n",
    "소문자 변환이 왜 유용한지 예를 들어보도록 하겠습니다. \n",
    "가령, Automobile이라는 단어가 문장의 첫 단어였기때문에 A가 대문자였다고 생각해봅시다. \n",
    "여기에 소문자 변환을 사용하면, automobile을 찾는 질의(query)에서, \n",
    "결과로서 Automobile도 찾을 수 있게 됩니다.\n",
    "\n",
    "유사하게, 검색 엔진에서 사용자가 페라리 차량에 관심이 있어서 페라리를 검색해본다고 합시다. \n",
    "엄밀히 말해서 사실 사용자가 검색을 통해 찾고자하는 결과는 a Ferrari car라고 봐야합니다. \n",
    "하지만, 검색 엔진은 소문자 변환을 적용했을 것이기 때문에 ferrari만 쳐도 원하는 결과를 얻을 수 있을 것입니다.\n",
    "\n",
    "물론, 대문자와 소문자를 무작정 통합해서는 안 됩니다. \n",
    "대문자와 소문자가 구분되어야 하는 경우도 있기 때문입니다. \n",
    "가령 미국을 뜻하는 단어 US와 우리를 뜻하는 us는 구분되어야 합니다. \n",
    "또 회사 이름(General Motors)나, 사람 이름(Bush) 등은 대문자로 유지되는 것이 옳습니다.\n",
    "\n",
    "모든 토큰을 소문자로 만드는 것이 문제를 가져온다면, 또 다른 대안은 일부만 소문자로 \n",
    "변환시키는 방법도 있습니다. 가령, 이런 규칙은 어떨까요? 문장의 맨 앞에서 나오는 단어의 대문자만 \n",
    "소문자로 바꾸고, 다른 단어들은 전부 대문자인 상태로 놔두는 것입니다.\n",
    "\n",
    "사실, 이러한 작업은 더 많은 변수를 사용해서 소문자 변환을 언제 사용할지 결정하는 \n",
    "머신 러닝 시퀀스 모델로 더 정확하게 진행시킬 수 있습니다. \n",
    "하지만 만약 올바른 대문자 단어를 얻고 싶은 상황에서, 훈련에 사용하는 코퍼스가 \n",
    "사용자들이 단어의 대문자, 소문자의 올바른 사용 방법과 상관없이 소문자를 사용하는 사람들로부터 \n",
    "나온 데이터라면 이러한 방법 또한 그다지 도움이 되지 않을 수 있습니다. \n",
    "결국에는 예외 사항을 크게 고려하지 않고, 모든 코퍼스를 소문자로 바꾸는 것이 종종 \n",
    "더 실용적인 해결책이 되기도 합니다."
   ],
   "metadata": {
    "collapsed": false
   }
  },
  {
   "cell_type": "markdown",
   "source": [
    "## 3. 불필요한 단어의 제거(Removing Unnecessary Words) - (Cleaning)\n",
    "\n",
    "1. 등장 빈도가 적은 단어(Removing Rare words) 제거 <br>\n",
    "예를 들어 입력된 메일이 정상 메일인지 스팸 메일인지를 분류하는 \n",
    "스팸 메일 분류기를 설계한다고 가정해보겠습니다. \n",
    "총 100,000개의 메일을 가지고 정상 메일에서는 어떤 단어들이 주로 등장하고, \n",
    "스팸 메일에서는 어떤 단어들이 주로 등장하는지를 가지고 설계하고자 합니다. \n",
    "그런데 이때 100,000개의 메일 데이터에서 총 합 5번 밖에 등장하지 않은 단어가 있다면 \n",
    "이 단어는 직관적으로 분류에 거의 도움이 되지 않을 것임을 알 수 있습니다.\n",
    "\n",
    "2. 길이가 짧은 단어(Removing words with very a short length) 제거 <br>\n",
    "영어권 언어에서는 길이가 짧은 단어를 삭제하는 것만으로도 어느정도 자연어 처리에서 크게 의미가 없는 단어들을 제거하는 효과를 볼 수 있다고 알려져 있습니다. \n",
    "하지만 한국어에서는 길이가 짧은 단어라고 삭제하는 이런 방법이 크게 유효하지 않을 수 있는데 그 이유에 대해서 정리해보도록 하겠습니다.\n",
    " 영어 단어의 평균 길이는 6~7 정도이며, 한국어 단어의 평균 길이는 2~3 정도로 추정되고 있습니다. 두 나라의 단어 평균 길이가 몇 인지에 대해서는 확실히 말하기 어렵지만 그럼에도 확실한 사실은 영어 단어의 길이가 한국어 단어의 길이보다는 평균적으로 길다는 점입니다.\n",
    " "
   ],
   "metadata": {
    "collapsed": false
   }
  },
  {
   "cell_type": "code",
   "source": [
    "import re\n",
    "text = \"I was wondering if anyone out there could enlighten me on this car.\"\n",
    "shortword = re.compile(r'\\W*\\b\\w{1,2}\\b')\n",
    "print(shortword.sub('', text))"
   ],
   "metadata": {
    "collapsed": false,
    "pycharm": {
     "name": "#%%\n",
     "is_executing": false
    }
   },
   "execution_count": 1,
   "outputs": [
    {
     "name": "stdout",
     "text": [
      " was wondering anyone out there could enlighten this car.\n"
     ],
     "output_type": "stream"
    }
   ]
  },
  {
   "cell_type": "markdown",
   "source": [
    "## 4. 정규 표현식(Regular Expression)\n",
    "얻어낸 코퍼스에서 노이즈 데이터의 특징을 잡아낼 수 있다면, 정규 표현식을 통해서 이를 제거할 수 있는 경우가 많습니다. 가령, HTML 문서로부터 가져온 코퍼스라면 문서 여기저기에 HTML 태그가 있습니다. \n",
    "뉴스 기사를 크롤링 했다면, 기사마다 게재 시간이 적혀져 있을 수 있습니다. 정규 표현식은 이러한 코퍼스 내에 계속해서 등장하는 글자들을 규칙에 기반하여 한 번에 제거하는 방식으로서 매우 유용합니다."
   ],
   "metadata": {
    "collapsed": false,
    "pycharm": {
     "name": "#%% md\n"
    }
   }
  }
 ],
 "metadata": {
  "language_info": {
   "codemirror_mode": {
    "name": "ipython",
    "version": 2
   },
   "file_extension": ".py",
   "mimetype": "text/x-python",
   "name": "python",
   "nbconvert_exporter": "python",
   "pygments_lexer": "ipython2",
   "version": "2.7.6"
  },
  "kernelspec": {
   "name": "python3",
   "language": "python",
   "display_name": "Python 3"
  },
  "pycharm": {
   "stem_cell": {
    "cell_type": "raw",
    "source": [],
    "metadata": {
     "collapsed": false
    }
   }
  }
 },
 "nbformat": 4,
 "nbformat_minor": 0
}